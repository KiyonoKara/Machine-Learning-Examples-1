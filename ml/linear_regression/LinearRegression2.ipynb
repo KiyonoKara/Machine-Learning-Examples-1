{
 "cells": [
  {
   "cell_type": "markdown",
   "source": [
    "Display mtcars dataset"
   ],
   "metadata": {
    "collapsed": false
   },
   "id": "6c75ac240539d47"
  },
  {
   "cell_type": "code",
   "execution_count": 1,
   "outputs": [
    {
     "data": {
      "text/plain": "                      mpg  cyl   disp   hp  drat     wt   qsec  vs  am  gear  \\\nrownames                                                                       \nMazda RX4            21.0    6  160.0  110  3.90  2.620  16.46   0   1     4   \nMazda RX4 Wag        21.0    6  160.0  110  3.90  2.875  17.02   0   1     4   \nDatsun 710           22.8    4  108.0   93  3.85  2.320  18.61   1   1     4   \nHornet 4 Drive       21.4    6  258.0  110  3.08  3.215  19.44   1   0     3   \nHornet Sportabout    18.7    8  360.0  175  3.15  3.440  17.02   0   0     3   \nValiant              18.1    6  225.0  105  2.76  3.460  20.22   1   0     3   \nDuster 360           14.3    8  360.0  245  3.21  3.570  15.84   0   0     3   \nMerc 240D            24.4    4  146.7   62  3.69  3.190  20.00   1   0     4   \nMerc 230             22.8    4  140.8   95  3.92  3.150  22.90   1   0     4   \nMerc 280             19.2    6  167.6  123  3.92  3.440  18.30   1   0     4   \nMerc 280C            17.8    6  167.6  123  3.92  3.440  18.90   1   0     4   \nMerc 450SE           16.4    8  275.8  180  3.07  4.070  17.40   0   0     3   \nMerc 450SL           17.3    8  275.8  180  3.07  3.730  17.60   0   0     3   \nMerc 450SLC          15.2    8  275.8  180  3.07  3.780  18.00   0   0     3   \nCadillac Fleetwood   10.4    8  472.0  205  2.93  5.250  17.98   0   0     3   \nLincoln Continental  10.4    8  460.0  215  3.00  5.424  17.82   0   0     3   \nChrysler Imperial    14.7    8  440.0  230  3.23  5.345  17.42   0   0     3   \nFiat 128             32.4    4   78.7   66  4.08  2.200  19.47   1   1     4   \nHonda Civic          30.4    4   75.7   52  4.93  1.615  18.52   1   1     4   \nToyota Corolla       33.9    4   71.1   65  4.22  1.835  19.90   1   1     4   \nToyota Corona        21.5    4  120.1   97  3.70  2.465  20.01   1   0     3   \nDodge Challenger     15.5    8  318.0  150  2.76  3.520  16.87   0   0     3   \nAMC Javelin          15.2    8  304.0  150  3.15  3.435  17.30   0   0     3   \nCamaro Z28           13.3    8  350.0  245  3.73  3.840  15.41   0   0     3   \nPontiac Firebird     19.2    8  400.0  175  3.08  3.845  17.05   0   0     3   \nFiat X1-9            27.3    4   79.0   66  4.08  1.935  18.90   1   1     4   \nPorsche 914-2        26.0    4  120.3   91  4.43  2.140  16.70   0   1     5   \nLotus Europa         30.4    4   95.1  113  3.77  1.513  16.90   1   1     5   \nFord Pantera L       15.8    8  351.0  264  4.22  3.170  14.50   0   1     5   \nFerrari Dino         19.7    6  145.0  175  3.62  2.770  15.50   0   1     5   \nMaserati Bora        15.0    8  301.0  335  3.54  3.570  14.60   0   1     5   \nVolvo 142E           21.4    4  121.0  109  4.11  2.780  18.60   1   1     4   \n\n                     carb  \nrownames                   \nMazda RX4               4  \nMazda RX4 Wag           4  \nDatsun 710              1  \nHornet 4 Drive          1  \nHornet Sportabout       2  \nValiant                 1  \nDuster 360              4  \nMerc 240D               2  \nMerc 230                2  \nMerc 280                4  \nMerc 280C               4  \nMerc 450SE              3  \nMerc 450SL              3  \nMerc 450SLC             3  \nCadillac Fleetwood      4  \nLincoln Continental     4  \nChrysler Imperial       4  \nFiat 128                1  \nHonda Civic             2  \nToyota Corolla          1  \nToyota Corona           1  \nDodge Challenger        2  \nAMC Javelin             2  \nCamaro Z28              4  \nPontiac Firebird        2  \nFiat X1-9               1  \nPorsche 914-2           2  \nLotus Europa            2  \nFord Pantera L          4  \nFerrari Dino            6  \nMaserati Bora           8  \nVolvo 142E              2  ",
      "text/html": "<div>\n<style scoped>\n    .dataframe tbody tr th:only-of-type {\n        vertical-align: middle;\n    }\n\n    .dataframe tbody tr th {\n        vertical-align: top;\n    }\n\n    .dataframe thead th {\n        text-align: right;\n    }\n</style>\n<table border=\"1\" class=\"dataframe\">\n  <thead>\n    <tr style=\"text-align: right;\">\n      <th></th>\n      <th>mpg</th>\n      <th>cyl</th>\n      <th>disp</th>\n      <th>hp</th>\n      <th>drat</th>\n      <th>wt</th>\n      <th>qsec</th>\n      <th>vs</th>\n      <th>am</th>\n      <th>gear</th>\n      <th>carb</th>\n    </tr>\n    <tr>\n      <th>rownames</th>\n      <th></th>\n      <th></th>\n      <th></th>\n      <th></th>\n      <th></th>\n      <th></th>\n      <th></th>\n      <th></th>\n      <th></th>\n      <th></th>\n      <th></th>\n    </tr>\n  </thead>\n  <tbody>\n    <tr>\n      <th>Mazda RX4</th>\n      <td>21.0</td>\n      <td>6</td>\n      <td>160.0</td>\n      <td>110</td>\n      <td>3.90</td>\n      <td>2.620</td>\n      <td>16.46</td>\n      <td>0</td>\n      <td>1</td>\n      <td>4</td>\n      <td>4</td>\n    </tr>\n    <tr>\n      <th>Mazda RX4 Wag</th>\n      <td>21.0</td>\n      <td>6</td>\n      <td>160.0</td>\n      <td>110</td>\n      <td>3.90</td>\n      <td>2.875</td>\n      <td>17.02</td>\n      <td>0</td>\n      <td>1</td>\n      <td>4</td>\n      <td>4</td>\n    </tr>\n    <tr>\n      <th>Datsun 710</th>\n      <td>22.8</td>\n      <td>4</td>\n      <td>108.0</td>\n      <td>93</td>\n      <td>3.85</td>\n      <td>2.320</td>\n      <td>18.61</td>\n      <td>1</td>\n      <td>1</td>\n      <td>4</td>\n      <td>1</td>\n    </tr>\n    <tr>\n      <th>Hornet 4 Drive</th>\n      <td>21.4</td>\n      <td>6</td>\n      <td>258.0</td>\n      <td>110</td>\n      <td>3.08</td>\n      <td>3.215</td>\n      <td>19.44</td>\n      <td>1</td>\n      <td>0</td>\n      <td>3</td>\n      <td>1</td>\n    </tr>\n    <tr>\n      <th>Hornet Sportabout</th>\n      <td>18.7</td>\n      <td>8</td>\n      <td>360.0</td>\n      <td>175</td>\n      <td>3.15</td>\n      <td>3.440</td>\n      <td>17.02</td>\n      <td>0</td>\n      <td>0</td>\n      <td>3</td>\n      <td>2</td>\n    </tr>\n    <tr>\n      <th>Valiant</th>\n      <td>18.1</td>\n      <td>6</td>\n      <td>225.0</td>\n      <td>105</td>\n      <td>2.76</td>\n      <td>3.460</td>\n      <td>20.22</td>\n      <td>1</td>\n      <td>0</td>\n      <td>3</td>\n      <td>1</td>\n    </tr>\n    <tr>\n      <th>Duster 360</th>\n      <td>14.3</td>\n      <td>8</td>\n      <td>360.0</td>\n      <td>245</td>\n      <td>3.21</td>\n      <td>3.570</td>\n      <td>15.84</td>\n      <td>0</td>\n      <td>0</td>\n      <td>3</td>\n      <td>4</td>\n    </tr>\n    <tr>\n      <th>Merc 240D</th>\n      <td>24.4</td>\n      <td>4</td>\n      <td>146.7</td>\n      <td>62</td>\n      <td>3.69</td>\n      <td>3.190</td>\n      <td>20.00</td>\n      <td>1</td>\n      <td>0</td>\n      <td>4</td>\n      <td>2</td>\n    </tr>\n    <tr>\n      <th>Merc 230</th>\n      <td>22.8</td>\n      <td>4</td>\n      <td>140.8</td>\n      <td>95</td>\n      <td>3.92</td>\n      <td>3.150</td>\n      <td>22.90</td>\n      <td>1</td>\n      <td>0</td>\n      <td>4</td>\n      <td>2</td>\n    </tr>\n    <tr>\n      <th>Merc 280</th>\n      <td>19.2</td>\n      <td>6</td>\n      <td>167.6</td>\n      <td>123</td>\n      <td>3.92</td>\n      <td>3.440</td>\n      <td>18.30</td>\n      <td>1</td>\n      <td>0</td>\n      <td>4</td>\n      <td>4</td>\n    </tr>\n    <tr>\n      <th>Merc 280C</th>\n      <td>17.8</td>\n      <td>6</td>\n      <td>167.6</td>\n      <td>123</td>\n      <td>3.92</td>\n      <td>3.440</td>\n      <td>18.90</td>\n      <td>1</td>\n      <td>0</td>\n      <td>4</td>\n      <td>4</td>\n    </tr>\n    <tr>\n      <th>Merc 450SE</th>\n      <td>16.4</td>\n      <td>8</td>\n      <td>275.8</td>\n      <td>180</td>\n      <td>3.07</td>\n      <td>4.070</td>\n      <td>17.40</td>\n      <td>0</td>\n      <td>0</td>\n      <td>3</td>\n      <td>3</td>\n    </tr>\n    <tr>\n      <th>Merc 450SL</th>\n      <td>17.3</td>\n      <td>8</td>\n      <td>275.8</td>\n      <td>180</td>\n      <td>3.07</td>\n      <td>3.730</td>\n      <td>17.60</td>\n      <td>0</td>\n      <td>0</td>\n      <td>3</td>\n      <td>3</td>\n    </tr>\n    <tr>\n      <th>Merc 450SLC</th>\n      <td>15.2</td>\n      <td>8</td>\n      <td>275.8</td>\n      <td>180</td>\n      <td>3.07</td>\n      <td>3.780</td>\n      <td>18.00</td>\n      <td>0</td>\n      <td>0</td>\n      <td>3</td>\n      <td>3</td>\n    </tr>\n    <tr>\n      <th>Cadillac Fleetwood</th>\n      <td>10.4</td>\n      <td>8</td>\n      <td>472.0</td>\n      <td>205</td>\n      <td>2.93</td>\n      <td>5.250</td>\n      <td>17.98</td>\n      <td>0</td>\n      <td>0</td>\n      <td>3</td>\n      <td>4</td>\n    </tr>\n    <tr>\n      <th>Lincoln Continental</th>\n      <td>10.4</td>\n      <td>8</td>\n      <td>460.0</td>\n      <td>215</td>\n      <td>3.00</td>\n      <td>5.424</td>\n      <td>17.82</td>\n      <td>0</td>\n      <td>0</td>\n      <td>3</td>\n      <td>4</td>\n    </tr>\n    <tr>\n      <th>Chrysler Imperial</th>\n      <td>14.7</td>\n      <td>8</td>\n      <td>440.0</td>\n      <td>230</td>\n      <td>3.23</td>\n      <td>5.345</td>\n      <td>17.42</td>\n      <td>0</td>\n      <td>0</td>\n      <td>3</td>\n      <td>4</td>\n    </tr>\n    <tr>\n      <th>Fiat 128</th>\n      <td>32.4</td>\n      <td>4</td>\n      <td>78.7</td>\n      <td>66</td>\n      <td>4.08</td>\n      <td>2.200</td>\n      <td>19.47</td>\n      <td>1</td>\n      <td>1</td>\n      <td>4</td>\n      <td>1</td>\n    </tr>\n    <tr>\n      <th>Honda Civic</th>\n      <td>30.4</td>\n      <td>4</td>\n      <td>75.7</td>\n      <td>52</td>\n      <td>4.93</td>\n      <td>1.615</td>\n      <td>18.52</td>\n      <td>1</td>\n      <td>1</td>\n      <td>4</td>\n      <td>2</td>\n    </tr>\n    <tr>\n      <th>Toyota Corolla</th>\n      <td>33.9</td>\n      <td>4</td>\n      <td>71.1</td>\n      <td>65</td>\n      <td>4.22</td>\n      <td>1.835</td>\n      <td>19.90</td>\n      <td>1</td>\n      <td>1</td>\n      <td>4</td>\n      <td>1</td>\n    </tr>\n    <tr>\n      <th>Toyota Corona</th>\n      <td>21.5</td>\n      <td>4</td>\n      <td>120.1</td>\n      <td>97</td>\n      <td>3.70</td>\n      <td>2.465</td>\n      <td>20.01</td>\n      <td>1</td>\n      <td>0</td>\n      <td>3</td>\n      <td>1</td>\n    </tr>\n    <tr>\n      <th>Dodge Challenger</th>\n      <td>15.5</td>\n      <td>8</td>\n      <td>318.0</td>\n      <td>150</td>\n      <td>2.76</td>\n      <td>3.520</td>\n      <td>16.87</td>\n      <td>0</td>\n      <td>0</td>\n      <td>3</td>\n      <td>2</td>\n    </tr>\n    <tr>\n      <th>AMC Javelin</th>\n      <td>15.2</td>\n      <td>8</td>\n      <td>304.0</td>\n      <td>150</td>\n      <td>3.15</td>\n      <td>3.435</td>\n      <td>17.30</td>\n      <td>0</td>\n      <td>0</td>\n      <td>3</td>\n      <td>2</td>\n    </tr>\n    <tr>\n      <th>Camaro Z28</th>\n      <td>13.3</td>\n      <td>8</td>\n      <td>350.0</td>\n      <td>245</td>\n      <td>3.73</td>\n      <td>3.840</td>\n      <td>15.41</td>\n      <td>0</td>\n      <td>0</td>\n      <td>3</td>\n      <td>4</td>\n    </tr>\n    <tr>\n      <th>Pontiac Firebird</th>\n      <td>19.2</td>\n      <td>8</td>\n      <td>400.0</td>\n      <td>175</td>\n      <td>3.08</td>\n      <td>3.845</td>\n      <td>17.05</td>\n      <td>0</td>\n      <td>0</td>\n      <td>3</td>\n      <td>2</td>\n    </tr>\n    <tr>\n      <th>Fiat X1-9</th>\n      <td>27.3</td>\n      <td>4</td>\n      <td>79.0</td>\n      <td>66</td>\n      <td>4.08</td>\n      <td>1.935</td>\n      <td>18.90</td>\n      <td>1</td>\n      <td>1</td>\n      <td>4</td>\n      <td>1</td>\n    </tr>\n    <tr>\n      <th>Porsche 914-2</th>\n      <td>26.0</td>\n      <td>4</td>\n      <td>120.3</td>\n      <td>91</td>\n      <td>4.43</td>\n      <td>2.140</td>\n      <td>16.70</td>\n      <td>0</td>\n      <td>1</td>\n      <td>5</td>\n      <td>2</td>\n    </tr>\n    <tr>\n      <th>Lotus Europa</th>\n      <td>30.4</td>\n      <td>4</td>\n      <td>95.1</td>\n      <td>113</td>\n      <td>3.77</td>\n      <td>1.513</td>\n      <td>16.90</td>\n      <td>1</td>\n      <td>1</td>\n      <td>5</td>\n      <td>2</td>\n    </tr>\n    <tr>\n      <th>Ford Pantera L</th>\n      <td>15.8</td>\n      <td>8</td>\n      <td>351.0</td>\n      <td>264</td>\n      <td>4.22</td>\n      <td>3.170</td>\n      <td>14.50</td>\n      <td>0</td>\n      <td>1</td>\n      <td>5</td>\n      <td>4</td>\n    </tr>\n    <tr>\n      <th>Ferrari Dino</th>\n      <td>19.7</td>\n      <td>6</td>\n      <td>145.0</td>\n      <td>175</td>\n      <td>3.62</td>\n      <td>2.770</td>\n      <td>15.50</td>\n      <td>0</td>\n      <td>1</td>\n      <td>5</td>\n      <td>6</td>\n    </tr>\n    <tr>\n      <th>Maserati Bora</th>\n      <td>15.0</td>\n      <td>8</td>\n      <td>301.0</td>\n      <td>335</td>\n      <td>3.54</td>\n      <td>3.570</td>\n      <td>14.60</td>\n      <td>0</td>\n      <td>1</td>\n      <td>5</td>\n      <td>8</td>\n    </tr>\n    <tr>\n      <th>Volvo 142E</th>\n      <td>21.4</td>\n      <td>4</td>\n      <td>121.0</td>\n      <td>109</td>\n      <td>4.11</td>\n      <td>2.780</td>\n      <td>18.60</td>\n      <td>1</td>\n      <td>1</td>\n      <td>4</td>\n      <td>2</td>\n    </tr>\n  </tbody>\n</table>\n</div>"
     },
     "execution_count": 1,
     "metadata": {},
     "output_type": "execute_result"
    }
   ],
   "source": [
    "import statsmodels.api as sm\n",
    "data = sm.datasets.get_rdataset('mtcars').data\n",
    "data"
   ],
   "metadata": {
    "collapsed": false,
    "ExecuteTime": {
     "end_time": "2023-11-22T16:22:27.747165Z",
     "start_time": "2023-11-22T16:22:24.994842Z"
    }
   },
   "id": "initial_id"
  },
  {
   "cell_type": "markdown",
   "source": [
    "Linear regression between 'wt' and target 'mpg'"
   ],
   "metadata": {
    "collapsed": false
   },
   "id": "41ae8babd067a20"
  },
  {
   "cell_type": "code",
   "execution_count": 2,
   "outputs": [
    {
     "name": "stdout",
     "output_type": "stream",
     "text": [
      "Estimated intercept coefficient: 37.285\n",
      "Estimated coefficient for wt: -5.344 [-5.34447157]\n"
     ]
    }
   ],
   "source": [
    "from sklearn.linear_model import LinearRegression\n",
    "\n",
    "lr = LinearRegression()\n",
    "X = data.drop('mpg', axis=1)\n",
    "y = data['mpg']\n",
    "\n",
    "lr.fit(X[['wt']], y)\n",
    "\n",
    "print(\"Estimated intercept coefficient: %.3f\" %lr.intercept_)\n",
    "print(\"Estimated coefficient for wt: %.3f\" %lr.coef_[-1], lr.coef_)"
   ],
   "metadata": {
    "collapsed": false,
    "ExecuteTime": {
     "end_time": "2023-11-22T16:22:27.957321Z",
     "start_time": "2023-11-22T16:22:27.740963Z"
    }
   },
   "id": "b6be2702062dc211"
  },
  {
   "cell_type": "code",
   "execution_count": 4,
   "outputs": [
    {
     "name": "stdout",
     "output_type": "stream",
     "text": [
      "[-0.11144048  0.01333524 -0.02148212  0.78711097 -3.71530393  0.82104075\n",
      "  0.31776281  2.52022689  0.65541302 -0.19941925]\n"
     ]
    }
   ],
   "source": [
    "# Coefficients all features and 'mpg'\n",
    "lr.fit(X, y)\n",
    "print(lr.coef_)"
   ],
   "metadata": {
    "collapsed": false,
    "ExecuteTime": {
     "end_time": "2023-11-22T16:22:58.128729Z",
     "start_time": "2023-11-22T16:22:58.116823Z"
    }
   },
   "id": "b9a0b2799416a7f8"
  },
  {
   "cell_type": "code",
   "execution_count": 6,
   "outputs": [
    {
     "name": "stdout",
     "output_type": "stream",
     "text": [
      "  Feature  Coefficient Estimate\n",
      "0     cyl             -0.111440\n",
      "1    disp              0.013335\n",
      "2      hp             -0.021482\n",
      "3    drat              0.787111\n",
      "4      wt             -3.715304\n",
      "5    qsec              0.821041\n",
      "6      vs              0.317763\n",
      "7      am              2.520227\n",
      "8    gear              0.655413\n",
      "9    carb             -0.199419\n",
      "Intercept: 12.303\n"
     ]
    }
   ],
   "source": [
    "import pandas as pd\n",
    "\n",
    "# Coefficients as a table\n",
    "coef_df = pd.DataFrame(X.columns)\n",
    "coef_df.columns = ['Feature']\n",
    "coef_df['Coefficient Estimate'] = pd.Series(lr.coef_)\n",
    "print(coef_df)\n",
    "print(\"Intercept: %.3f\" %lr.intercept_)"
   ],
   "metadata": {
    "collapsed": false,
    "ExecuteTime": {
     "end_time": "2023-11-22T16:24:47.835734Z",
     "start_time": "2023-11-22T16:24:47.832376Z"
    }
   },
   "id": "d3fe1fe32a77a3c6"
  }
 ],
 "metadata": {
  "kernelspec": {
   "display_name": "Python 3",
   "language": "python",
   "name": "python3"
  },
  "language_info": {
   "codemirror_mode": {
    "name": "ipython",
    "version": 2
   },
   "file_extension": ".py",
   "mimetype": "text/x-python",
   "name": "python",
   "nbconvert_exporter": "python",
   "pygments_lexer": "ipython2",
   "version": "2.7.6"
  }
 },
 "nbformat": 4,
 "nbformat_minor": 5
}
