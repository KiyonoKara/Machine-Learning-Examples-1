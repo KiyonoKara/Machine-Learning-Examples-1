{
 "cells": [
  {
   "cell_type": "markdown",
   "source": [
    "Generate random sample data with feature X and target y for gradient descent in linear regression."
   ],
   "metadata": {
    "collapsed": false
   },
   "id": "7f14700686833641"
  },
  {
   "cell_type": "code",
   "execution_count": 1,
   "outputs": [],
   "source": [
    "import numpy as np\n",
    "\n",
    "x = np.random.normal(loc=5, scale=3, size=100)\n",
    "y = 2 * x + np.random.normal(loc=0, scale=1, size=100)\n",
    "X = np.column_stack((np.ones(100), x))"
   ],
   "metadata": {
    "collapsed": false,
    "ExecuteTime": {
     "end_time": "2023-11-13T04:52:04.369683Z",
     "start_time": "2023-11-13T04:52:04.147902Z"
    }
   },
   "id": "initial_id"
  },
  {
   "cell_type": "code",
   "execution_count": 2,
   "outputs": [],
   "source": [
    "def compute_cost(predictions, y_target):\n",
    "    return np.mean(np.square(predictions - y_target))\n",
    "\n",
    "def gradient_descent(X_b, y_target, theta, learning_rate, num_iterations):\n",
    "    n = float(len(y_target))\n",
    "    cost_history = []\n",
    "    \n",
    "    for _ in range(num_iterations):\n",
    "        predictions = X_b.dot(theta)\n",
    "        errors = predictions - y_target\n",
    "        gradient = (2 / n) * (errors.T.dot(X_b))\n",
    "        theta -= learning_rate * gradient.T\n",
    "        cost_history.append(compute_cost(predictions, y_target))\n",
    "    \n",
    "    return theta, cost_history"
   ],
   "metadata": {
    "collapsed": false,
    "ExecuteTime": {
     "end_time": "2023-11-13T04:56:08.387198Z",
     "start_time": "2023-11-13T04:56:08.383800Z"
    }
   },
   "id": "6c067b96fc66938f"
  },
  {
   "cell_type": "code",
   "execution_count": 9,
   "outputs": [
    {
     "name": "stdout",
     "output_type": "stream",
     "text": [
      "Coefficients [0.2785377  1.95576076]\n",
      "Cost (MSE) 1.0081720763332889\n"
     ]
    }
   ],
   "source": [
    "# Test gradient descent\n",
    "theta = np.zeros(X.shape[1])\n",
    "final_theta, final_cost_history = gradient_descent(X_b=X, y_target=y, theta=theta, learning_rate=0.01, num_iterations=1000)\n",
    "print(\"Coefficients\", final_theta)\n",
    "print(\"Cost (MSE)\", final_cost_history[-1])"
   ],
   "metadata": {
    "collapsed": false,
    "ExecuteTime": {
     "end_time": "2023-11-13T05:03:15.023326Z",
     "start_time": "2023-11-13T05:03:15.006874Z"
    }
   },
   "id": "2d6602297b393d20"
  },
  {
   "cell_type": "code",
   "execution_count": 12,
   "outputs": [
    {
     "name": "stdout",
     "output_type": "stream",
     "text": [
      "Intercept: 0.278559559864032\n",
      "Coefficient: [1.95575771]\n"
     ]
    }
   ],
   "source": [
    "from sklearn.linear_model import LinearRegression\n",
    "\n",
    "lr_model = LinearRegression()\n",
    "lr_model.fit(X[0:, 1:], y)\n",
    "# lr_model.fit(X[0:,1].reshape(-1, 1), y)\n",
    "print(\"Intercept:\", lr_model.intercept_)\n",
    "print(\"Coefficient:\", lr_model.coef_)"
   ],
   "metadata": {
    "collapsed": false,
    "ExecuteTime": {
     "end_time": "2023-11-13T05:04:30.688800Z",
     "start_time": "2023-11-13T05:04:30.672815Z"
    }
   },
   "id": "12e828706bddf95b"
  },
  {
   "cell_type": "code",
   "execution_count": 15,
   "outputs": [
    {
     "name": "stdout",
     "output_type": "stream",
     "text": [
      "Estimated intercept is 0.279\n",
      "Estimated coefficient is 1.956\n"
     ]
    }
   ],
   "source": [
    "estimated_theta = np.append(lr_model.intercept_, lr_model.coef_)\n",
    "print(\"Estimated intercept is %.3f\" % lr_model.intercept_)\n",
    "print(\"Estimated coefficient is %.3f\" % lr_model.coef_[-1])"
   ],
   "metadata": {
    "collapsed": false,
    "ExecuteTime": {
     "end_time": "2023-11-13T05:07:32.525940Z",
     "start_time": "2023-11-13T05:07:32.521086Z"
    }
   },
   "id": "904ba02566ee1b53"
  }
 ],
 "metadata": {
  "kernelspec": {
   "display_name": "Python 3",
   "language": "python",
   "name": "python3"
  },
  "language_info": {
   "codemirror_mode": {
    "name": "ipython",
    "version": 2
   },
   "file_extension": ".py",
   "mimetype": "text/x-python",
   "name": "python",
   "nbconvert_exporter": "python",
   "pygments_lexer": "ipython2",
   "version": "2.7.6"
  }
 },
 "nbformat": 4,
 "nbformat_minor": 5
}
